{
 "cells": [
  {
   "cell_type": "code",
   "execution_count": null,
   "metadata": {},
   "outputs": [],
   "source": [
    "from selenium import webdriver\n",
    "from selenium.webdriver.common.by import By\n",
    "\n",
    "\n",
    "driver = webdriver.Chrome()\n",
    "driver.get('https://www.just-eat.co.uk/area/ec1v-london')\n"
   ]
  },
  {
   "cell_type": "code",
   "execution_count": null,
   "metadata": {},
   "outputs": [],
   "source": [
    "driver.execute_script(\"window.scrollTo(0,document.body.scrollHeight-100)\")"
   ]
  },
  {
   "cell_type": "code",
   "execution_count": null,
   "metadata": {},
   "outputs": [],
   "source": [
    "result = driver.find_elements(By.CLASS_NAME, 'c-listing-loader')\n",
    "array = result[0].find_elements(By.CLASS_NAME, 'c-restaurantCardContainer')\n",
    "len(array)"
   ]
  },
  {
   "cell_type": "code",
   "execution_count": null,
   "metadata": {},
   "outputs": [],
   "source": [
    "urls = []\n",
    "for i in array:\n",
    "    urls.append(i.get_attribute('href'))\n",
    "\n",
    "len(urls)\n",
    "urls[0:5]"
   ]
  },
  {
   "cell_type": "code",
   "execution_count": null,
   "metadata": {},
   "outputs": [],
   "source": [
    "reviews = webdriver.Chrome()\n",
    "count = len(urls)\n",
    "testi = []\n",
    "\n",
    "for obj in urls:\n",
    "    link = obj.replace('menu','reviews')\n",
    "    reviews.get(link)\n",
    "\n",
    "    reviews.find_elements(By.CLASS_NAME, 'c-reviews-item')\n",
    "    recensioni = reviews.find_elements(By.CLASS_NAME, 'c-reviews-item')\n",
    "    for i in recensioni:\n",
    "        x = i.find_elements(By.TAG_NAME, 'p')\n",
    "        if(len(x) > 1):\n",
    "            container = []\n",
    "            classe = i.find_element(By.TAG_NAME, 'div').find_element(By.TAG_NAME, 'span').get_attribute('class')\n",
    "            text = x[1].get_attribute('innerHTML').strip()\n",
    "            mark = classe.split()[1].split('-')[-1]\n",
    "            container.append(text)\n",
    "            container.append(mark)\n",
    "\n",
    "            testi.append(container)\n",
    "    count -= 1\n",
    "    print(f\"> {len(testi)} | Remaining > {count}\")\n",
    "            "
   ]
  },
  {
   "cell_type": "code",
   "execution_count": null,
   "metadata": {},
   "outputs": [],
   "source": [
    "import json\n",
    "dict = {}\n",
    "\n",
    "for t in testi:\n",
    "    data = {'comment': t[0], 'rating': t[1]}\n",
    "    dict[hex(id(t))] = data\n",
    "\n",
    "dict"
   ]
  },
  {
   "cell_type": "code",
   "execution_count": null,
   "metadata": {},
   "outputs": [],
   "source": [
    "json_data = json.dumps(dict)\n",
    "with open('./data/comments.json', 'w') as f:\n",
    "    f.write('')\n",
    "\n",
    "with open('./data/comments.json', 'a') as f:\n",
    "    f.write(json_data)"
   ]
  }
 ],
 "metadata": {
  "kernelspec": {
   "display_name": "Python 3 (ipykernel)",
   "language": "python",
   "name": "python3"
  },
  "language_info": {
   "codemirror_mode": {
    "name": "ipython",
    "version": 3
   },
   "file_extension": ".py",
   "mimetype": "text/x-python",
   "name": "python",
   "nbconvert_exporter": "python",
   "pygments_lexer": "ipython3",
   "version": "3.9.12"
  },
  "orig_nbformat": 4
 },
 "nbformat": 4,
 "nbformat_minor": 2
}
