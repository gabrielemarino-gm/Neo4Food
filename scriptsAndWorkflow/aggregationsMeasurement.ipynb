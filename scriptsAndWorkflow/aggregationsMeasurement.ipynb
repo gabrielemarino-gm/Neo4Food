{
 "cells": [
  {
   "cell_type": "code",
   "execution_count": 2,
   "metadata": {},
   "outputs": [],
   "source": [
    "from pymongo import MongoClient\n",
    "from bson.objectid import ObjectId\n",
    "from bson.son import SON"
   ]
  },
  {
   "cell_type": "code",
   "execution_count": 3,
   "metadata": {},
   "outputs": [],
   "source": [
    "client = MongoClient(\"mongodb://10.1.1.9:27017\")\n",
    "db = client[\"Neo4Food\"]\n",
    "orders = db[\"Orders\"]\n",
    "restaurants = db[\"Restaurants\"]\n",
    "users = db[\"Users\"]"
   ]
  },
  {
   "cell_type": "code",
   "execution_count": 19,
   "metadata": {},
   "outputs": [
    {
     "name": "stdout",
     "output_type": "stream",
     "text": [
      "-----\n",
      "Old: Subway211@america.us | New: Subway2110@america.us\n"
     ]
    }
   ],
   "source": [
    "doppioni = restaurants.aggregate([{\"$group\": {\"_id\": \"$email\", \"count\": {\"$sum\": 1}}},{\"$match\": {\"count\": {\"$gt\": 1}}},{\"$sort\": {\"count\": 1}}])\n",
    "for d in doppioni:\n",
    "    count = d['count']\n",
    "    # print(f\"Email: {d['_id']} | Count: {count}\")\n",
    "    print(\"-----\")\n",
    "    for i in range(count):\n",
    "        email = d['_id'].replace('@',f'{i}@')\n",
    "        print(f\"Old: {d['_id']} | New: {email}\")\n",
    "        # restaurants.update_one({\"email\": d['_id']},{\"$set\": {\"email\": email}})\n",
    "        break\n",
    "    break"
   ]
  },
  {
   "cell_type": "code",
   "execution_count": null,
   "metadata": {},
   "outputs": [],
   "source": []
  }
 ],
 "metadata": {
  "kernelspec": {
   "display_name": "base",
   "language": "python",
   "name": "python3"
  },
  "language_info": {
   "codemirror_mode": {
    "name": "ipython",
    "version": 3
   },
   "file_extension": ".py",
   "mimetype": "text/x-python",
   "name": "python",
   "nbconvert_exporter": "python",
   "pygments_lexer": "ipython3",
   "version": "3.9.13"
  },
  "orig_nbformat": 4,
  "vscode": {
   "interpreter": {
    "hash": "f6a5e76a99c0511a31decff2f843de6b15227c9a58b9fb2d2d9b4eba74a67e12"
   }
  }
 },
 "nbformat": 4,
 "nbformat_minor": 2
}
