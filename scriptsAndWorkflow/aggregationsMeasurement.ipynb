{
 "cells": [
  {
   "cell_type": "code",
   "execution_count": 43,
   "metadata": {},
   "outputs": [],
   "source": [
    "from pymongo import MongoClient\n",
    "from bson.objectid import ObjectId\n",
    "from bson.son import SON"
   ]
  },
  {
   "cell_type": "code",
   "execution_count": 44,
   "metadata": {},
   "outputs": [],
   "source": [
    "client = MongoClient(\"mongodb://10.1.1.9:27017\")\n",
    "db = client[\"Neo4Food\"]\n",
    "orders = db[\"Orders\"]\n",
    "restaurants = db[\"Restaurants\"]\n",
    "users = db[\"Users\"]"
   ]
  },
  {
   "cell_type": "code",
   "execution_count": 65,
   "metadata": {},
   "outputs": [
    {
     "name": "stdout",
     "output_type": "stream",
     "text": [
      "db.Orders.aggregate([{'$match': {'restaurantId': '63d92b3cc416ac8e49aec90e', 'creationDate': {'$gte': 'new Date(newDate()-1000*60*60*24*30)'}}}, {'$group': {'_id': '$restaurantId', 'name': {'$first': '$restaurant'}, 'gain': {'$sum': '$total'}, 'currency': {'$first': '$currency'}}}, {'$sort': {'gain': -1}}, {'$limit': 10}],{hint: 'restaurantid1creationdate1'}).explain()['stages']\n"
     ]
    }
   ],
   "source": [
    "query = []\n",
    "\n",
    "unwind = {\"$unwind\": \"$dishes\"}\n",
    "addFields = {\"$addFields\": {\"dishPrice\": {\"$toDouble\": \"$dishes.price\"}}}\n",
    "match = {\"$match\": {\"restaurantId\": \"63d92b3cc416ac8e49aec90e\", \"creationDate\": {\"$gte\": \"new Date(newDate()-1000*60*60*24*30)\"}}}\n",
    "group = {\"$group\": {\"_id\": \"$restaurantId\", \"name\": {\"$first\": \"$restaurant\"}, \"gain\": {\"$sum\": \"$total\"}, \"currency\": {\"$first\":\"$currency\"}}}\n",
    "sort = {\"$sort\": {\"gain\": -1}}\n",
    "project = {\"$project\": {\"dish\": \"$dishes.name\", \"cost\": \"$dishPrice\", \"res\": \"$name\", \"currency\": \"$dishes.currency\"}}\n",
    "limit = {\"$limit\": 10}\n",
    "\n",
    "\n",
    "# //... {$match: {creationDate: {$gtr: new Date(new Date() - 1000*60*60*24*30)}}}\n",
    "# //... {$group: {_id: \"$restaurantId\", name: {$first:\"$restaurant\"}, gain: {$sum: \"$total\"}, currency: {$first:\"$currency\"}}}]\n",
    "# //... {$sort: {gain: -1}},\n",
    "# //... {$limit: 10}\n",
    "\n",
    "pipeline = [match, group, sort, limit]\n",
    "\n",
    "print(f\"db.Orders.aggregate({pipeline},{{hint: 'restaurantid1creationdate1'}}).explain()['stages']\")"
   ]
  },
  {
   "cell_type": "code",
   "execution_count": 59,
   "metadata": {},
   "outputs": [
    {
     "name": "stdout",
     "output_type": "stream",
     "text": [
      "SON([('v', 2), ('key', SON([('_id', 1)])), ('name', '_id_')])\n",
      "SON([('v', 2), ('key', SON([('restaurantId', 1)])), ('name', 'faster aggregations by restaurantId')])\n",
      "SON([('v', 2), ('key', SON([('user', 1)])), ('name', 'faster aggregation by user name'), ('sparse', False)])\n",
      "SON([('v', 2), ('key', SON([('zipcode', 1)])), ('name', 'zipcode')])\n",
      "SON([('v', 2), ('key', SON([('restaurantId', 1), ('creationDate', 1)])), ('name', 'Orari')])\n",
      "SON([('v', 2), ('key', SON([('creationDate', 1)])), ('name', 'creationDate')])\n"
     ]
    }
   ],
   "source": [
    "for i in orders.list_indexes():\n",
    "    print(i)"
   ]
  }
 ],
 "metadata": {
  "kernelspec": {
   "display_name": "base",
   "language": "python",
   "name": "python3"
  },
  "language_info": {
   "codemirror_mode": {
    "name": "ipython",
    "version": 3
   },
   "file_extension": ".py",
   "mimetype": "text/x-python",
   "name": "python",
   "nbconvert_exporter": "python",
   "pygments_lexer": "ipython3",
   "version": "3.9.13"
  },
  "orig_nbformat": 4,
  "vscode": {
   "interpreter": {
    "hash": "f6a5e76a99c0511a31decff2f843de6b15227c9a58b9fb2d2d9b4eba74a67e12"
   }
  }
 },
 "nbformat": 4,
 "nbformat_minor": 2
}
