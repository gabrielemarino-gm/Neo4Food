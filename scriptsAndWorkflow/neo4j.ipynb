{
 "cells": [
  {
   "cell_type": "code",
   "execution_count": 2,
   "metadata": {},
   "outputs": [],
   "source": [
    "import neo4j\n",
    "import json"
   ]
  },
  {
   "cell_type": "code",
   "execution_count": 4,
   "metadata": {},
   "outputs": [],
   "source": [
    "with open(r'C:\\Users\\mpasq\\OneDrive\\Desktop\\MONGODBBACKUP\\Users.json', encoding= 'utf-8') as f:\n",
    "    users = json.load(f)\n",
    "\n",
    "# with open(r'C:\\Users\\mpasq\\OneDrive\\Desktop\\MONGODBBACKUP\\Restaurants.json', encoding= 'utf-8') as f:\n",
    "#     restaurants = json.load(f)"
   ]
  },
  {
   "cell_type": "code",
   "execution_count": 7,
   "metadata": {},
   "outputs": [],
   "source": [
    "neo4j.GraphDatabase\n",
    "\n",
    "with neo4j.GraphDatabase.driver(\"neo4j://10.1.1.9:7687\", auth=(\"neo4j\",\"12345678\")) as driver:\n",
    "    driver.verify_connectivity()"
   ]
  },
  {
   "cell_type": "code",
   "execution_count": 19,
   "metadata": {},
   "outputs": [],
   "source": [
    "for i in range( 10):\n",
    "    link = rf'C:\\Users\\mpasq\\OneDrive\\Desktop\\MONGODBBACKUP\\CreateUsersNeo{i}.cypher'\n",
    "    with open(link, encoding='utf-8', mode='w') as f:\n",
    "        f.write(\"\")"
   ]
  },
  {
   "cell_type": "code",
   "execution_count": 20,
   "metadata": {},
   "outputs": [],
   "source": [
    "i = 0\n",
    "j = 0\n",
    "\n",
    "for x in users:\n",
    "    link = rf'C:\\Users\\mpasq\\OneDrive\\Desktop\\MONGODBBACKUP\\CreateUsersNeo{i}.cypher'\n",
    "    with open(link, encoding='utf-8', mode='a') as f:\n",
    "        command = 'MERGE (:User{username:\"'+ x['username'] +'\"})\\n'\n",
    "        f.write(command)\n",
    "    j+=1\n",
    "    if(j==10000):\n",
    "        j=0\n",
    "        i+=1\n",
    "    "
   ]
  },
  {
   "cell_type": "code",
   "execution_count": null,
   "metadata": {},
   "outputs": [],
   "source": []
  }
 ],
 "metadata": {
  "kernelspec": {
   "display_name": "Python 3 (ipykernel)",
   "language": "python",
   "name": "python3"
  },
  "language_info": {
   "codemirror_mode": {
    "name": "ipython",
    "version": 3
   },
   "file_extension": ".py",
   "mimetype": "text/x-python",
   "name": "python",
   "nbconvert_exporter": "python",
   "pygments_lexer": "ipython3",
   "version": "3.9.12"
  },
  "orig_nbformat": 4,
  "vscode": {
   "interpreter": {
    "hash": "f6221e4d2bd166493528d1be569624111fa277062041f177e94d7bcd5da36abc"
   }
  }
 },
 "nbformat": 4,
 "nbformat_minor": 2
}
