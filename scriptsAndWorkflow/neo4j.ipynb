{
 "cells": [
  {
   "cell_type": "code",
   "execution_count": 1,
   "metadata": {},
   "outputs": [],
   "source": [
    "import neo4j\n",
    "import json"
   ]
  },
  {
   "cell_type": "code",
   "execution_count": 2,
   "metadata": {},
   "outputs": [],
   "source": [
    "with open(r'C:\\Users\\mpasq\\OneDrive\\Desktop\\MONGODBBACKUP\\Users.json', encoding= 'utf-8') as f:\n",
    "    users = json.load(f)"
   ]
  },
  {
   "cell_type": "code",
   "execution_count": 7,
   "metadata": {},
   "outputs": [],
   "source": [
    "neo4j.GraphDatabase\n",
    "\n",
    "with neo4j.GraphDatabase.driver(\"neo4j://10.1.1.9:7687\", auth=(\"neo4j\",\"12345678\")) as driver:\n",
    "    driver.verify_connectivity()"
   ]
  },
  {
   "cell_type": "code",
   "execution_count": 11,
   "metadata": {},
   "outputs": [],
   "source": [
    "for i in range(40):\n",
    "    link = rf'C:\\Users\\mpasq\\.Neo4jDesktop\\projects\\Neo4Food\\CreateUsersNeo{i}.cypher'\n",
    "    with open(link, encoding='utf-8', mode='w') as f:\n",
    "        f.write(\"\")"
   ]
  },
  {
   "cell_type": "code",
   "execution_count": 12,
   "metadata": {},
   "outputs": [],
   "source": [
    "i = 0\n",
    "j = 0\n",
    "\n",
    "for x in users:\n",
    "    link = rf'C:\\Users\\mpasq\\.Neo4jDesktop\\projects\\Neo4Food\\CreateUsersNeo{i}.cypher'\n",
    "    with open(link, encoding='utf-8', mode='a') as f:\n",
    "        command = 'CREATE (:User{username:\"'+ x['username'] +'\"})\\n'\n",
    "        f.write(command)\n",
    "    j+=1\n",
    "    if(j==2000):\n",
    "        j=0\n",
    "        i+=1\n",
    "    "
   ]
  },
  {
   "cell_type": "code",
   "execution_count": 15,
   "metadata": {},
   "outputs": [
    {
     "data": {
      "text/plain": [
       "7"
      ]
     },
     "execution_count": 15,
     "metadata": {},
     "output_type": "execute_result"
    }
   ],
   "source": [
    "import gc\n",
    "gc.collect()\n"
   ]
  },
  {
   "cell_type": "code",
   "execution_count": 2,
   "metadata": {},
   "outputs": [],
   "source": [
    "with open(r'C:\\Users\\mpasq\\OneDrive\\Desktop\\MONGODBBACKUP\\RestaurantsNoUselessness.json', encoding= 'utf-8') as f:\n",
    "    restaurants = json.load(f)"
   ]
  },
  {
   "cell_type": "code",
   "execution_count": 10,
   "metadata": {},
   "outputs": [],
   "source": [
    "for i in range(40):\n",
    "    link = rf'C:\\Users\\mpasq\\.Neo4jDesktop\\projects\\Neo4Food\\CreateRestsNeo{i}.cypher'\n",
    "    with open(link, encoding='utf-8', mode='w') as f:\n",
    "        f.write(\"\")"
   ]
  },
  {
   "cell_type": "code",
   "execution_count": 11,
   "metadata": {},
   "outputs": [],
   "source": [
    "i = 0\n",
    "j = 0\n",
    "\n",
    "for x in restaurants:\n",
    "    link = rf'C:\\Users\\mpasq\\.Neo4jDesktop\\projects\\Neo4Food\\CreateRestaurantsNeo{i}.cypher'\n",
    "    with open(link, encoding='utf-8', mode='a') as f:\n",
    "        id=x['_id']['$oid']\n",
    "        name=x['name']\n",
    "        zip=x['zip_code']\n",
    "        command = 'CREATE (:Restaurant{rid:\"'+ id +'\", name:\"'+ name +'\" ,zipcode:\"'+ zip +'\"})\\n'\n",
    "        \n",
    "        f.write(command)\n",
    "    j+=1\n",
    "    if(j==1000):\n",
    "        j=0\n",
    "        i+=1"
   ]
  }
 ],
 "metadata": {
  "kernelspec": {
   "display_name": "base",
   "language": "python",
   "name": "python3"
  },
  "language_info": {
   "codemirror_mode": {
    "name": "ipython",
    "version": 3
   },
   "file_extension": ".py",
   "mimetype": "text/x-python",
   "name": "python",
   "nbconvert_exporter": "python",
   "pygments_lexer": "ipython3",
   "version": "3.9.12 (main, Apr  4 2022, 05:22:27) [MSC v.1916 64 bit (AMD64)]"
  },
  "orig_nbformat": 4,
  "vscode": {
   "interpreter": {
    "hash": "f6221e4d2bd166493528d1be569624111fa277062041f177e94d7bcd5da36abc"
   }
  }
 },
 "nbformat": 4,
 "nbformat_minor": 2
}
