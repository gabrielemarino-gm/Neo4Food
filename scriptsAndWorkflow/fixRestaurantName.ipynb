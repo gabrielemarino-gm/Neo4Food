{
 "cells": [
  {
   "cell_type": "code",
   "execution_count": 9,
   "metadata": {},
   "outputs": [],
   "source": [
    "import json\n",
    "jsonRist = json.load(open(\"../data/RestaurantsMongo.json\"))"
   ]
  },
  {
   "cell_type": "code",
   "execution_count": 6,
   "metadata": {},
   "outputs": [
    {
     "data": {
      "text/plain": [
       "dict_keys(['_id', 'id', 'position', 'name', 'category', 'price_range', 'full_address', 'zip_code', 'lat', 'lng', 'dish', 'email', 'password'])"
      ]
     },
     "execution_count": 6,
     "metadata": {},
     "output_type": "execute_result"
    }
   ],
   "source": [
    "jsonRist[0].keys()"
   ]
  },
  {
   "cell_type": "code",
   "execution_count": 10,
   "metadata": {},
   "outputs": [],
   "source": [
    "for indxRis in range(len(jsonRist)):\n",
    "    ristorante  = jsonRist[indxRis]\n",
    "    fullName = ristorante[\"name\"]\n",
    "    nomeSplit = fullName.split(\"(\")\n",
    "    ristorante[\"name\"] = nomeSplit[0]\n",
    "    "
   ]
  },
  {
   "cell_type": "code",
   "execution_count": 11,
   "metadata": {},
   "outputs": [],
   "source": [
    "with open(\"../data/restaurantsFixName.json\", \"w\") as outFile:\n",
    "    json.dump(jsonRist, outFile)"
   ]
  }
 ],
 "metadata": {
  "kernelspec": {
   "display_name": "base",
   "language": "python",
   "name": "python3"
  },
  "language_info": {
   "codemirror_mode": {
    "name": "ipython",
    "version": 3
   },
   "file_extension": ".py",
   "mimetype": "text/x-python",
   "name": "python",
   "nbconvert_exporter": "python",
   "pygments_lexer": "ipython3",
   "version": "3.9.12"
  },
  "orig_nbformat": 4,
  "vscode": {
   "interpreter": {
    "hash": "d0a33c8f23ebd8323d68179a12d6503eebbba58d345f36679601b934f86e0f97"
   }
  }
 },
 "nbformat": 4,
 "nbformat_minor": 2
}
