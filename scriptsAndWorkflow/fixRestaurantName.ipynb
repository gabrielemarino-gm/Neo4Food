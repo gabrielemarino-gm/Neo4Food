{
 "cells": [
  {
   "cell_type": "code",
   "execution_count": 9,
   "metadata": {},
   "outputs": [],
   "source": [
    "import json\n",
    "jsonRist = json.load(open(\"../data/RestaurantsMongo.json\"))"
   ]
  },
  {
   "cell_type": "code",
   "execution_count": 6,
   "metadata": {},
   "outputs": [
    {
     "data": {
      "text/plain": [
       "dict_keys(['_id', 'id', 'position', 'name', 'category', 'price_range', 'full_address', 'zip_code', 'lat', 'lng', 'dish', 'email', 'password'])"
      ]
     },
     "execution_count": 6,
     "metadata": {},
     "output_type": "execute_result"
    }
   ],
   "source": [
    "jsonRist[0].keys()"
   ]
  },
  {
   "cell_type": "code",
   "execution_count": 10,
   "metadata": {},
   "outputs": [],
   "source": [
    "for indxRis in range(len(jsonRist)):\n",
    "    ristorante  = jsonRist[indxRis]\n",
    "    fullName = ristorante[\"name\"]\n",
    "    nomeSplit = fullName.split(\"(\")\n",
    "    ristorante[\"name\"] = nomeSplit[0]\n",
    "    "
   ]
  },
  {
   "cell_type": "code",
   "execution_count": 11,
   "metadata": {},
   "outputs": [],
   "source": [
    "with open(\"../data/restaurantsFixName.json\", \"w\") as outFile:\n",
    "    json.dump(jsonRist, outFile)"
   ]
  }
 ],
 "metadata": {
  "kernelspec": {
   "display_name": "Python 3",
   "language": "python",
   "name": "python3"
  },
  "language_info": {
   "codemirror_mode": {
    "name": "ipython",
    "version": 3
   },
   "file_extension": ".py",
   "mimetype": "text/x-python",
   "name": "python",
   "nbconvert_exporter": "python",
   "pygments_lexer": "ipython3",
   "version": "3.10.9 (tags/v3.10.9:1dd9be6, Dec  6 2022, 20:01:21) [MSC v.1934 64 bit (AMD64)]"
  },
  "orig_nbformat": 4,
  "vscode": {
   "interpreter": {
    "hash": "30889310e1a36884254c4e5ca41965dda1abe951c49454043cee8b64abb76924"
   }
  }
 },
 "nbformat": 4,
 "nbformat_minor": 2
}
