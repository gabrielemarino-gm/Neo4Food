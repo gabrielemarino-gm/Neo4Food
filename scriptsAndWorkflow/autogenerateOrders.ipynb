{
 "cells": [
  {
   "cell_type": "code",
   "execution_count": 12,
   "metadata": {},
   "outputs": [],
   "source": [
    "import pymongo\n",
    "from bson.objectid import ObjectId\n",
    "import json\n",
    "import datetime\n",
    "import random\n"
   ]
  },
  {
   "cell_type": "code",
   "execution_count": 36,
   "metadata": {},
   "outputs": [],
   "source": [
    "def getRandom(by, to):\n",
    "    import random\n",
    "    return random.randint(by, to)\n",
    "\n",
    "def getProb(prob):\n",
    "    import random\n",
    "    random.seed()\n",
    "    if(random.randint(0, 100) < prob):\n",
    "        return True\n",
    "    return False\n"
   ]
  },
  {
   "cell_type": "code",
   "execution_count": 35,
   "metadata": {},
   "outputs": [
    {
     "name": "stdout",
     "output_type": "stream",
     "text": [
      "{'_id': ObjectId('63da218703e209da8884405b'), 'date': datetime.datetime(2023, 2, 1, 8, 23, 35, 956000)}\n",
      "{'_id': ObjectId('63da267303e209da8884405c'), 'date': datetime.datetime(2023, 2, 1, 8, 44, 35, 89000)}\n",
      "{'_id': ObjectId('63da269f882210239e428559'), 'date': datetime.datetime(2023, 2, 1, 8, 45, 19, 240000)}\n",
      "{'_id': ObjectId('63da26df882210239e42855b'), 'date': datetime.datetime(2023, 2, 1, 9, 15, 22)}\n",
      "{'_id': ObjectId('63da2714882210239e42855d'), 'date': datetime.datetime(2023, 2, 1, 9, 15, 22, 23000)}\n",
      "{'_id': ObjectId('63da29dc882210239e42855f'), 'date': datetime.datetime(2023, 2, 1, 9, 15, 22, 23000)}\n"
     ]
    }
   ],
   "source": [
    "client = pymongo.MongoClient(\"mongodb://10.1.1.9:27017,10.1.1.10:27018,10.1.1.11:27019\")\n",
    "db = client[\"Testing\"]\n",
    "collection = db[\"Test\"]\n",
    "\n",
    "\n",
    "collection.insert_one({\"_id\": ObjectId(), \"date\": datetime.datetime(2023, 2,1,9,15,22,23_000)})\n",
    "\n",
    "\n",
    "res = collection.find()\n",
    "for x in res:\n",
    "    print(x)"
   ]
  },
  {
   "cell_type": "code",
   "execution_count": 19,
   "metadata": {},
   "outputs": [
    {
     "data": {
      "text/plain": [
       "datetime.datetime(2023, 2, 1, 8, 44, 55, 140391)"
      ]
     },
     "execution_count": 19,
     "metadata": {},
     "output_type": "execute_result"
    }
   ],
   "source": [
    "datetime.datetime.utcnow()"
   ]
  },
  {
   "cell_type": "code",
   "execution_count": 45,
   "metadata": {},
   "outputs": [
    {
     "name": "stdout",
     "output_type": "stream",
     "text": [
      "{'a': 3174, 'b': 826}\n"
     ]
    }
   ],
   "source": [
    "x = {\"a\": 0, \"b\": 0}\n",
    "\n",
    "for i in range(4000):\n",
    "    if(getProb(80)):\n",
    "        x[\"a\"] += 1\n",
    "    else:\n",
    "        x[\"b\"] += 1\n",
    "\n",
    "print(x)"
   ]
  }
 ],
 "metadata": {
  "kernelspec": {
   "display_name": "Python 3",
   "language": "python",
   "name": "python3"
  },
  "language_info": {
   "codemirror_mode": {
    "name": "ipython",
    "version": 3
   },
   "file_extension": ".py",
   "mimetype": "text/x-python",
   "name": "python",
   "nbconvert_exporter": "python",
   "pygments_lexer": "ipython3",
   "version": "3.9.12"
  },
  "orig_nbformat": 4,
  "vscode": {
   "interpreter": {
    "hash": "f6221e4d2bd166493528d1be569624111fa277062041f177e94d7bcd5da36abc"
   }
  }
 },
 "nbformat": 4,
 "nbformat_minor": 2
}
