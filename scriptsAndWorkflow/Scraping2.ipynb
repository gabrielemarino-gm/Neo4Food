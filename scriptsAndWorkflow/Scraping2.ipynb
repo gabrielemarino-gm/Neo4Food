{
 "cells": [
  {
   "cell_type": "code",
   "execution_count": 12,
   "id": "d515ef65",
   "metadata": {},
   "outputs": [],
   "source": [
    "from selenium import webdriver\n",
    "from selenium.webdriver.common.by import By\n",
    "from selenium.common.exceptions import NoSuchElementException\n",
    "\n",
    "\n",
    "driver = webdriver.Chrome()\n",
    "driver.get('https://www.justeat.it/area/00185-roma')"
   ]
  },
  {
   "cell_type": "code",
   "execution_count": 13,
   "id": "f8bde6a8",
   "metadata": {},
   "outputs": [],
   "source": [
    "driver.execute_script(\"window.scrollTo(0,document.body.scrollHeight-100)\")"
   ]
  },
  {
   "cell_type": "code",
   "execution_count": 14,
   "id": "f829cc4f",
   "metadata": {
    "scrolled": true
   },
   "outputs": [
    {
     "data": {
      "text/plain": [
       "349"
      ]
     },
     "execution_count": 14,
     "metadata": {},
     "output_type": "execute_result"
    }
   ],
   "source": [
    "result = driver.find_elements(By.CLASS_NAME, 'c-listing-loader')\n",
    "array = result[0].find_elements(By.CLASS_NAME, 'c-restaurantCardContainer')\n",
    "len(array)"
   ]
  },
  {
   "cell_type": "code",
   "execution_count": 15,
   "id": "a61bfcfc",
   "metadata": {},
   "outputs": [
    {
     "data": {
      "text/plain": [
       "['https://www.justeat.it/restaurants-sfizio-pizzeriae-gastronomia-roma/menu',\n",
       " 'https://www.justeat.it/restaurants-sunnyroma/menu',\n",
       " 'https://www.justeat.it/restaurants-yesfoodpiazzabologna/menu',\n",
       " 'https://www.justeat.it/restaurants-leyuang/menu',\n",
       " 'https://www.justeat.it/restaurants-gelateria-farini-roma/menu',\n",
       " 'https://www.justeat.it/restaurants-ami-poke---hawaiian-bar---re-di-roma-00183/menu',\n",
       " 'https://www.justeat.it/restaurants-amipokehawaiianbar/menu',\n",
       " 'https://www.justeat.it/restaurants-sushiinthebox/menu',\n",
       " 'https://www.justeat.it/restaurants-poke-poke-roma-00199/menu',\n",
       " 'https://www.justeat.it/restaurants-freetto---termini-roma/menu',\n",
       " 'https://www.justeat.it/restaurants-mcdonalds-rediroma/menu',\n",
       " 'https://www.justeat.it/restaurants-sushikotopo/menu',\n",
       " 'https://www.justeat.it/restaurants-yesfoodasioamericanasanlorenzoroma/menu',\n",
       " 'https://www.justeat.it/restaurants-chiyosushirestaurant/menu',\n",
       " 'https://www.justeat.it/restaurants-ristorantexun-roma/menu',\n",
       " 'https://www.justeat.it/restaurants-bkappio/menu',\n",
       " 'https://www.justeat.it/restaurants-xihuristorantegiapponeseecinese/menu',\n",
       " 'https://www.justeat.it/restaurants-xinzhonghua/menu',\n",
       " 'https://www.justeat.it/restaurants-mio-poke-roma/menu',\n",
       " 'https://www.justeat.it/restaurants-solo-pizza---ippocrate-roma/menu',\n",
       " 'https://www.justeat.it/restaurants-crudosushi/menu',\n",
       " 'https://www.justeat.it/restaurants-slurp/menu',\n",
       " 'https://www.justeat.it/restaurants-oldwildwest-sanlorenzo/menu',\n",
       " 'https://www.justeat.it/restaurants-hariristoranteasiatico/menu',\n",
       " 'https://www.justeat.it/restaurants-trapizzino---provincie-roma/menu',\n",
       " 'https://www.justeat.it/restaurants-rosticceriacinesefelice/menu',\n",
       " 'https://www.justeat.it/restaurants-kfc-gioberti/menu',\n",
       " 'https://www.justeat.it/restaurants-streettiamo/menu',\n",
       " 'https://www.justeat.it/restaurants-ravioleria-esquilino-roma/menu',\n",
       " 'https://www.justeat.it/restaurants-cookitaly/menu',\n",
       " 'https://www.justeat.it/restaurants-sowl-bologna/menu',\n",
       " 'https://www.justeat.it/restaurants-oasidelgusto1/menu',\n",
       " 'https://www.justeat.it/restaurants-astrosmash-roma-/menu',\n",
       " 'https://www.justeat.it/restaurants-mastropizza/menu',\n",
       " 'https://www.justeat.it/restaurants-chihanasushirestaurantroma/menu',\n",
       " 'https://www.justeat.it/restaurants-cherubini-1966-banco-cucina-e-vermouth-roma/menu',\n",
       " 'https://www.justeat.it/restaurants-2torri/menu',\n",
       " 'https://www.justeat.it/restaurants-sushihousepo/menu',\n",
       " 'https://www.justeat.it/restaurants-misspizza-prati/menu',\n",
       " 'https://www.justeat.it/restaurants-kirinristorantegiapponesecinese/menu',\n",
       " 'https://www.justeat.it/restaurants-mizu-roma/menu',\n",
       " 'https://www.justeat.it/restaurants-sunny/menu',\n",
       " 'https://www.justeat.it/restaurants-ristorantetoyamaasianfood/menu',\n",
       " 'https://www.justeat.it/restaurants-pokehouse/menu',\n",
       " 'https://www.justeat.it/restaurants-ristorantecinesenuovacitta/menu',\n",
       " 'https://www.justeat.it/restaurants-lapizzaacasadal2009-appia-/menu',\n",
       " 'https://www.justeat.it/restaurants-piadinerialapiadeina/menu',\n",
       " 'https://www.justeat.it/restaurants-sono-sushi-e-poke-bowl-roma-/menu',\n",
       " 'https://www.justeat.it/restaurants-poke-and-poke-hawaii-bowl-san-lorenzo-roma-/menu',\n",
       " 'https://www.justeat.it/restaurants-texmexdelivery/menu',\n",
       " 'https://www.justeat.it/restaurants-sushi-xin-roma/menu',\n",
       " 'https://www.justeat.it/restaurants-citta-doriente-ristorante-cinese-roma/menu',\n",
       " 'https://www.justeat.it/restaurants-civilta-roma/menu',\n",
       " 'https://www.justeat.it/restaurants-holy-mary---poke-and-sushi-roma/menu',\n",
       " 'https://www.justeat.it/restaurants-spartagreekfastandslowfood/menu',\n",
       " 'https://www.justeat.it/restaurants-labaguetteria-viachiana/menu',\n",
       " 'https://www.justeat.it/restaurants-standingsushii/menu',\n",
       " 'https://www.justeat.it/restaurants-street-food-delivery/menu',\n",
       " 'https://www.justeat.it/restaurants-tasty-poke-bologna/menu',\n",
       " 'https://www.justeat.it/restaurants-itisushi/menu',\n",
       " 'https://www.justeat.it/restaurants-la-piadineria---annibaliano-roma/menu',\n",
       " 'https://www.justeat.it/restaurants-alice-pizza-san-lorenzo-roma/menu',\n",
       " 'https://www.justeat.it/restaurants-lartedellespresso/menu',\n",
       " 'https://www.justeat.it/restaurants-latteria-san-lorenzo-roma/menu',\n",
       " 'https://www.justeat.it/restaurants-gado-sushi---italian-sushi-roma/menu',\n",
       " 'https://www.justeat.it/restaurants-sanoandsalad/menu',\n",
       " 'https://www.justeat.it/restaurants-ilgrandesecolo/menu',\n",
       " 'https://www.justeat.it/restaurants-yes-poke-hawaii-bowl-centocelle-roma-/menu',\n",
       " 'https://www.justeat.it/restaurants-ristorante-vietnamita-pho-1---merulana-roma/menu',\n",
       " 'https://www.justeat.it/restaurants-sham/menu',\n",
       " 'https://www.justeat.it/restaurants-imperio-inca-san-giovanni-roma/menu',\n",
       " 'https://www.justeat.it/restaurants-ciro-kebab-roma/menu',\n",
       " 'https://www.justeat.it/restaurants-pizzeria-rosticceria-venezia-giulia-roma/menu',\n",
       " 'https://www.justeat.it/restaurants-ami-poke---hawaiian-bar---corso-trieste-roma/menu',\n",
       " 'https://www.justeat.it/restaurants-genuino-roma/menu',\n",
       " 'https://www.justeat.it/restaurants-ristorante-ding-roma/menu',\n",
       " 'https://www.justeat.it/restaurants-ristorantecinesegiapponese/menu',\n",
       " 'https://www.justeat.it/restaurants-sushiman/menu',\n",
       " 'https://www.justeat.it/restaurants-extra-bowl-roma/menu',\n",
       " 'https://www.justeat.it/restaurants-verdefresco-via-spaventa-roma/menu',\n",
       " 'https://www.justeat.it/restaurants-le-perle-ipocaloriche-del-gusto-1-roma/menu',\n",
       " 'https://www.justeat.it/restaurants-hosteria-del-panino-roma/menu',\n",
       " 'https://www.justeat.it/restaurants-forno-fagiani-roma/menu',\n",
       " 'https://www.justeat.it/restaurants-la-tana-dei-sardi-roma/menu',\n",
       " 'https://www.justeat.it/restaurants-cumbo-bistrot-liberi-dal-glutine-roma/menu',\n",
       " 'https://www.justeat.it/restaurants-forno-da-milvio-roma/menu',\n",
       " 'https://www.justeat.it/restaurants-chickenhut2/menu',\n",
       " 'https://www.justeat.it/restaurants-xinghai/menu',\n",
       " 'https://www.justeat.it/restaurants-burgerlandia-roma-00183/menu',\n",
       " 'https://www.justeat.it/restaurants-mattarello---pietralata-roma/menu',\n",
       " 'https://www.justeat.it/restaurants-piccolahongkong/menu',\n",
       " 'https://www.justeat.it/restaurants-lapagnotellagourmet/menu',\n",
       " 'https://www.justeat.it/restaurants-mikaku-sushi-restaurant-asian-fusion-roma/menu',\n",
       " 'https://www.justeat.it/restaurants-sushi-project-roma/menu',\n",
       " 'https://www.justeat.it/restaurants-asahi1gerusalemme/menu',\n",
       " 'https://www.justeat.it/restaurants-ristorantegandhi/menu',\n",
       " 'https://www.justeat.it/restaurants-il-grifone-20--parioli-pinciano-roma/menu',\n",
       " 'https://www.justeat.it/restaurants-gnam-gnam-piadineriaartigianale-roma/menu',\n",
       " 'https://www.justeat.it/restaurants-chinese-express-roma/menu',\n",
       " 'https://www.justeat.it/restaurants-al-re-dei-cuochi-roma/menu']"
      ]
     },
     "execution_count": 15,
     "metadata": {},
     "output_type": "execute_result"
    }
   ],
   "source": [
    "urls = []\n",
    "for i in array:\n",
    "    urls.append(i.get_attribute('href'))\n",
    "\n",
    "len(urls)\n",
    "ristorantidacercare=100 #Imposta Quanti ristoranti vuoi Cercare.\n",
    "urls = urls[0:ristorantidacercare] \n",
    "urls"
   ]
  },
  {
   "cell_type": "code",
   "execution_count": null,
   "id": "d3eb2cc8",
   "metadata": {},
   "outputs": [],
   "source": [
    "dishes = webdriver.Chrome()\n",
    "count = len(urls)\n",
    "result=[]\n",
    "piatto={\"nome\":\"\",\n",
    "        \"prezzo\":\"\",\n",
    "        \"descrizione\":\"\"}\n",
    "i=0\n",
    "\n",
    "ristorante={\n",
    "    \"nome\":\"\",\n",
    "    \"indirizzo\":\"\",\n",
    "    \"rating\":\"\",\n",
    "    \"piatti\":[]  \n",
    "}\n",
    "\n",
    "portate=[];\n",
    "for obj in urls:\n",
    "    #Entra in Ogni Link estratto\n",
    "    link=urls[i]\n",
    "    dishes.get(link)\n",
    "    \n",
    "    \n",
    "    #Trova il Nome , Indirizzo e Rating del Ristorante\n",
    "    ristorante[\"nome\"]=dishes.find_elements(By.TAG_NAME,\"h1\")[0].text\n",
    "    ristorante[\"indirizzo\"]=dishes.find_elements(By.CLASS_NAME,\"c-restaurantHeader-address-content\")[0].text\n",
    "    ristorante[\"rating\"]= dishes.find_elements(By.CLASS_NAME,\"c-rating\")[0].find_elements(By.XPATH , \"./*[1]\")[0].get_attribute(\"class\") \n",
    "    ristorante[\"rating\"]=ristorante[\"rating\"][-2] + ristorante[\"rating\"][-1] #Tronca il Tag Class per trovare il Rating\n",
    "    \n",
    "    print(f'<> Ristorante Numero: {len(urls)} --- Nome Ristorante > {ristorante[\"nome\"]} --- Mancanti > {ristorantidacercare-i}')\n",
    "    \n",
    "    #Lista delle Portate\n",
    "    portate=dishes.find_elements(By.CLASS_NAME, 'c-menuItems-content')\n",
    "\n",
    "    j=0\n",
    "\n",
    "    for piatti in portate: #Ciclo for per Scorrere tutti i piatti di un Ristorante(Aggiungere Le Categorie)\n",
    "        \n",
    "        #Trova i Nomi dei Piatti\n",
    "        piatto[\"nome\"]=dishes.find_elements(By.CLASS_NAME, 'c-menuItems-content')[j].find_elements(By.CLASS_NAME, 'c-menuItems-heading.u-spacingRight')[0].text\n",
    "        \n",
    "        #Trova i Prezzi dei Piatti (If else scritto perchè a volte i prezzi sono visualizzati con due classname diversi )\n",
    "        if (dishes.find_elements(By.CLASS_NAME, 'c-menuItems-content')[j].find_elements(By.XPATH, '//*[@data-js-test=\"menu-item-price\"]')[j].text != \"\") :\n",
    "            piatto[\"prezzo\"]=dishes.find_elements(By.CLASS_NAME, 'c-menuItems-content')[j].find_elements(By.XPATH, '//*[@data-js-test=\"menu-item-price\"]')[j].text\n",
    "        else :\n",
    "            #Questo codice non funziona se viene aperta (a caso) la schermata con i bottoni al posto dei prezzi\n",
    "            piatto[\"prezzo\"]=dishes.find_elements(By.CLASS_NAME, 'c-menuItems-content')[j].find_elements(By.CLASS_NAME, 'u-spacingTop.Button_o-btn_1KX8u.Button_o-btn--secondary_1KBR1.Button_o-btn--sizeXSmall_3KRtq.c-carousel-slide.notranslate')[0].text\n",
    " \n",
    "        #Trova le descrizioni dei Piatti (Se Esistenti)\n",
    "        try:\n",
    "            piatto[\"descrizione\"]=dishes.find_elements(By.CLASS_NAME, 'c-menuItems-content')[j].find_elements(By.TAG_NAME, 'p')[0].text\n",
    "        except NoSuchElementException:\n",
    "            piatto[\"descrizione\"]=\"\"\n",
    "        \n",
    "        if piatto[\"prezzo\"]==piatto[\"descrizione\"] :\n",
    "            piatto[\"descrizione\"]=\"\"\n",
    "        \n",
    "        ristorante[\"piatti\"].append(piatto)\n",
    "        \n",
    "        piatto={\"nome\":\"\",\n",
    "        \"prezzo\":\"\",\n",
    "        \"descrizione\":\"\"}\n",
    "        j+=1\n",
    "    \n",
    "    result.append(ristorante)\n",
    "    \n",
    "    ristorante={\n",
    "        \"nome\":\"\",\n",
    "        \"indirizzo\":\"\",\n",
    "        \"rating\":\"\",\n",
    "        \"piatti\":[]\n",
    "        }\n",
    "    \n",
    " \n",
    "    i+=1\n",
    "\n"
   ]
  },
  {
   "cell_type": "code",
   "execution_count": 6,
   "id": "6dd45b2c",
   "metadata": {},
   "outputs": [],
   "source": [
    "import json\n",
    "out_file = open(\"../data/restaurants.json\", \"w\")\n",
    "for x in result :\n",
    "    \n",
    "    json_data = json.dump(x, out_file, indent=4)\n"
   ]
  },
  {
   "cell_type": "code",
   "execution_count": 37,
   "id": "6601071b",
   "metadata": {},
   "outputs": [],
   "source": [
    "import json\n",
    "jsonRist = json.load(open(\"../data/restaurants.json\"))"
   ]
  },
  {
   "cell_type": "code",
   "execution_count": 38,
   "id": "4616fcf9",
   "metadata": {},
   "outputs": [],
   "source": [
    "for indxRis in range(len(jsonRist)):\n",
    "    addr = jsonRist[indxRis][\"address\"].split(\", \")\n",
    "    zipcode = addr[len(addr)-1]\n",
    "    address = \"\"\n",
    "\n",
    "    for indStr in range(len(addr)-1):\n",
    "        if indStr == len(addr)-2:\n",
    "            address += addr[indStr]\n",
    "            break\n",
    "        address += addr[indStr] + \", \"\n",
    "\n",
    "    jsonRist[indxRis][\"address\"] = address\n",
    "    jsonRist[indxRis][\"zipcode\"] = zipcode"
   ]
  },
  {
   "cell_type": "code",
   "execution_count": 39,
   "id": "ca257e65",
   "metadata": {},
   "outputs": [],
   "source": [
    "with open(\"../data/restaurantsZip.json\", \"w\") as outFile:\n",
    "    json.dump(jsonRist, outFile)"
   ]
  }
 ],
 "metadata": {
  "kernelspec": {
   "display_name": "Python 3",
   "language": "python",
   "name": "python3"
  },
  "language_info": {
   "codemirror_mode": {
    "name": "ipython",
    "version": 3
   },
   "file_extension": ".py",
   "mimetype": "text/x-python",
   "name": "python",
   "nbconvert_exporter": "python",
   "pygments_lexer": "ipython3",
   "version": "3.10.6"
  },
  "vscode": {
   "interpreter": {
    "hash": "7e1998ff7f8aa20ada591c520b972326324e5ea05489af9e422744c7c09f6dad"
   }
  }
 },
 "nbformat": 4,
 "nbformat_minor": 5
}
