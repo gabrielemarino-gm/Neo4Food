{
 "cells": [
  {
   "cell_type": "code",
   "execution_count": 1,
   "id": "d515ef65",
   "metadata": {},
   "outputs": [],
   "source": [
    "from selenium import webdriver\n",
    "from selenium.webdriver.common.by import By\n",
    "from selenium.common.exceptions import NoSuchElementException\n",
    "\n",
    "\n",
    "driver = webdriver.Chrome()\n",
    "driver.get('https://www.justeat.it/area/00185-roma')"
   ]
  },
  {
   "cell_type": "code",
   "execution_count": 2,
   "id": "f8bde6a8",
   "metadata": {},
   "outputs": [],
   "source": [
    "driver.execute_script(\"window.scrollTo(0,document.body.scrollHeight-100)\")"
   ]
  },
  {
   "cell_type": "code",
   "execution_count": 3,
   "id": "f829cc4f",
   "metadata": {
    "scrolled": true
   },
   "outputs": [
    {
     "data": {
      "text/plain": [
       "320"
      ]
     },
     "execution_count": 3,
     "metadata": {},
     "output_type": "execute_result"
    }
   ],
   "source": [
    "result = driver.find_elements(By.CLASS_NAME, 'c-listing-loader')\n",
    "array = result[0].find_elements(By.CLASS_NAME, 'c-restaurantCardContainer')\n",
    "len(array)"
   ]
  },
  {
   "cell_type": "code",
   "execution_count": 4,
   "id": "a61bfcfc",
   "metadata": {},
   "outputs": [
    {
     "data": {
      "text/plain": [
       "['https://www.justeat.it/restaurants-miss-pizza-forno-a-legna---san-giovanni-roma/menu']"
      ]
     },
     "execution_count": 4,
     "metadata": {},
     "output_type": "execute_result"
    }
   ],
   "source": [
    "urls = []\n",
    "for i in array:\n",
    "    urls.append(i.get_attribute('href'))\n",
    "\n",
    "len(urls)\n",
    "urls = urls[0:1] #Imposta Quanti ristoranti vuoi Cercare.\n",
    "urls"
   ]
  },
  {
   "cell_type": "code",
   "execution_count": 5,
   "id": "d3eb2cc8",
   "metadata": {},
   "outputs": [
    {
     "ename": "IndexError",
     "evalue": "list index out of range",
     "output_type": "error",
     "traceback": [
      "\u001b[1;31m---------------------------------------------------------------------------\u001b[0m",
      "\u001b[1;31mIndexError\u001b[0m                                Traceback (most recent call last)",
      "\u001b[1;32m~\\AppData\\Local\\Temp\\ipykernel_33380\\509141828.py\u001b[0m in \u001b[0;36m<module>\u001b[1;34m\u001b[0m\n\u001b[0;32m     39\u001b[0m             \u001b[0mpiatto\u001b[0m\u001b[1;33m[\u001b[0m\u001b[1;34m\"prezzo\"\u001b[0m\u001b[1;33m]\u001b[0m\u001b[1;33m=\u001b[0m\u001b[0mdishes\u001b[0m\u001b[1;33m.\u001b[0m\u001b[0mfind_elements\u001b[0m\u001b[1;33m(\u001b[0m\u001b[0mBy\u001b[0m\u001b[1;33m.\u001b[0m\u001b[0mCLASS_NAME\u001b[0m\u001b[1;33m,\u001b[0m \u001b[1;34m'c-menuItems-content'\u001b[0m\u001b[1;33m)\u001b[0m\u001b[1;33m[\u001b[0m\u001b[0mj\u001b[0m\u001b[1;33m]\u001b[0m\u001b[1;33m.\u001b[0m\u001b[0mfind_elements\u001b[0m\u001b[1;33m(\u001b[0m\u001b[0mBy\u001b[0m\u001b[1;33m.\u001b[0m\u001b[0mXPATH\u001b[0m\u001b[1;33m,\u001b[0m \u001b[1;34m'//*[@data-js-test=\"menu-item-price\"]'\u001b[0m\u001b[1;33m)\u001b[0m\u001b[1;33m[\u001b[0m\u001b[0mj\u001b[0m\u001b[1;33m]\u001b[0m\u001b[1;33m.\u001b[0m\u001b[0mtext\u001b[0m\u001b[1;33m\u001b[0m\u001b[1;33m\u001b[0m\u001b[0m\n\u001b[0;32m     40\u001b[0m         \u001b[1;32melse\u001b[0m \u001b[1;33m:\u001b[0m\u001b[1;33m\u001b[0m\u001b[1;33m\u001b[0m\u001b[0m\n\u001b[1;32m---> 41\u001b[1;33m             \u001b[0mpiatto\u001b[0m\u001b[1;33m[\u001b[0m\u001b[1;34m\"prezzo\"\u001b[0m\u001b[1;33m]\u001b[0m\u001b[1;33m=\u001b[0m\u001b[0mdishes\u001b[0m\u001b[1;33m.\u001b[0m\u001b[0mfind_elements\u001b[0m\u001b[1;33m(\u001b[0m\u001b[0mBy\u001b[0m\u001b[1;33m.\u001b[0m\u001b[0mCLASS_NAME\u001b[0m\u001b[1;33m,\u001b[0m \u001b[1;34m'c-menuItems-content'\u001b[0m\u001b[1;33m)\u001b[0m\u001b[1;33m[\u001b[0m\u001b[0mj\u001b[0m\u001b[1;33m]\u001b[0m\u001b[1;33m.\u001b[0m\u001b[0mfind_elements\u001b[0m\u001b[1;33m(\u001b[0m\u001b[0mBy\u001b[0m\u001b[1;33m.\u001b[0m\u001b[0mCLASS_NAME\u001b[0m\u001b[1;33m,\u001b[0m \u001b[1;34m'u-spacingTop.Button_o-btn_1KX8u.Button_o-btn--secondary_1KBR1.Button_o-btn--sizeXSmall_3KRtq.c-carousel-slide.notranslate'\u001b[0m\u001b[1;33m)\u001b[0m\u001b[1;33m[\u001b[0m\u001b[1;36m0\u001b[0m\u001b[1;33m]\u001b[0m\u001b[1;33m.\u001b[0m\u001b[0mtext\u001b[0m\u001b[1;33m\u001b[0m\u001b[1;33m\u001b[0m\u001b[0m\n\u001b[0m\u001b[0;32m     42\u001b[0m \u001b[1;33m\u001b[0m\u001b[0m\n\u001b[0;32m     43\u001b[0m         \u001b[1;31m#Trova le descrizioni dei Piatti (Se Esistenti)\u001b[0m\u001b[1;33m\u001b[0m\u001b[1;33m\u001b[0m\u001b[0m\n",
      "\u001b[1;31mIndexError\u001b[0m: list index out of range"
     ]
    }
   ],
   "source": [
    "dishes = webdriver.Chrome()\n",
    "count = len(urls)\n",
    "result=[]\n",
    "piatto={\"nome\":\"\",\n",
    "        \"prezzo\":\"\",\n",
    "        \"descrizione\":\"\"}\n",
    "i=0\n",
    "\n",
    "ristorante={\n",
    "    \"nome\":\"\",\n",
    "    \"indirizzo\":\"\",\n",
    "    \"rating\":\"\",\n",
    "    \"piatti\":[]\n",
    "    \n",
    "}\n",
    "portate=[];\n",
    "for obj in urls:\n",
    "    #Entra in Ogni Link estratto\n",
    "    link=urls[i]\n",
    "    dishes.get(link)\n",
    "    #Trova il Nome , Indirizzo e Rating del Ristorante\n",
    "    ristorante[\"nome\"]=dishes.find_elements(By.TAG_NAME,\"h1\")[0].text\n",
    "    ristorante[\"indirizzo\"]=dishes.find_elements(By.CLASS_NAME,\"c-restaurantHeader-address-content\")[0].text\n",
    "    ristorante[\"rating\"]= dishes.find_elements(By.CLASS_NAME,\"c-rating\")[0].find_elements(By.XPATH , \"./*[1]\")[0].get_attribute(\"class\") \n",
    "    ristorante[\"rating\"]=ristorante[\"rating\"][-2] + ristorante[\"rating\"][-1] #Tronca il Tag Class per trovare il Rating\n",
    "    \n",
    "    #Lista delle Portate\n",
    "    portate=dishes.find_elements(By.CLASS_NAME, 'c-menuItems-content')\n",
    "\n",
    "    j=0\n",
    "\n",
    "    for piatti in portate: #Ciclo for per Scorrere tutti i piatti di un Ristorante(Aggiungere Le Categorie)\n",
    "        \n",
    "        #Trova i Nomi dei Piatti\n",
    "        piatto[\"nome\"]=dishes.find_elements(By.CLASS_NAME, 'c-menuItems-content')[j].find_elements(By.CLASS_NAME, 'c-menuItems-heading.u-spacingRight')[0].text\n",
    "        \n",
    "        #Trova i Prezzi dei Piatti (If else scritto perchè a volte i prezzi sono visualizzati con due classname diversi )\n",
    "        if (dishes.find_elements(By.CLASS_NAME, 'c-menuItems-content')[j].find_elements(By.XPATH, '//*[@data-js-test=\"menu-item-price\"]')[j].text != \"\") :\n",
    "            piatto[\"prezzo\"]=dishes.find_elements(By.CLASS_NAME, 'c-menuItems-content')[j].find_elements(By.XPATH, '//*[@data-js-test=\"menu-item-price\"]')[j].text\n",
    "        else :\n",
    "            piatto[\"prezzo\"]=dishes.find_elements(By.CLASS_NAME, 'c-menuItems-content')[j].find_elements(By.CLASS_NAME, 'u-spacingTop.Button_o-btn_1KX8u.Button_o-btn--secondary_1KBR1.Button_o-btn--sizeXSmall_3KRtq.c-carousel-slide.notranslate')[0].text\n",
    "            \n",
    "        #Trova le descrizioni dei Piatti (Se Esistenti)\n",
    "        try:\n",
    "            piatto[\"descrizione\"]=dishes.find_elements(By.CLASS_NAME, 'c-menuItems-content')[j].find_elements(By.TAG_NAME, 'p')[0].text\n",
    "        except NoSuchElementException:\n",
    "            piatto[\"descrizione\"]=\"\"\n",
    "        \n",
    "        if piatto[\"prezzo\"]==piatto[\"descrizione\"] :\n",
    "            piatto[\"descrizione\"]=\"\"\n",
    "        \n",
    "        ristorante[\"piatti\"].append(piatto)\n",
    "        \n",
    "        piatto={\"nome\":\"\",\n",
    "        \"prezzo\":\"\",\n",
    "        \"descrizione\":\"\"}\n",
    "        j+=1\n",
    "    \n",
    "    result.append(ristorante)\n",
    "    \n",
    "    ristorante={\n",
    "        \"nome\":\"\",\n",
    "        \"indirizzo\":\"\",\n",
    "        \"rating\":\"\",\n",
    "        \"piatti\":[]\n",
    "        }\n",
    "    \n",
    " \n",
    "    i+=1\n",
    "    for x in result :\n",
    "        print(x)\n",
    "        print(\"\\n\")\n",
    "        print(\"\\n\")\n"
   ]
  },
  {
   "cell_type": "code",
   "execution_count": null,
   "id": "6dd45b2c",
   "metadata": {},
   "outputs": [],
   "source": [
    "import json\n",
    "out_file = open(\"./data/restaurants.json\", \"w\")\n",
    "for x in result :\n",
    "    \n",
    "    json_data = json.dump(x, out_file)\n"
   ]
  },
  {
   "cell_type": "code",
   "execution_count": null,
   "id": "189e4aec",
   "metadata": {},
   "outputs": [],
   "source": []
  }
 ],
 "metadata": {
  "kernelspec": {
   "display_name": "Python 3 (ipykernel)",
   "language": "python",
   "name": "python3"
  },
  "language_info": {
   "codemirror_mode": {
    "name": "ipython",
    "version": 3
   },
   "file_extension": ".py",
   "mimetype": "text/x-python",
   "name": "python",
   "nbconvert_exporter": "python",
   "pygments_lexer": "ipython3",
   "version": "3.9.13"
  }
 },
 "nbformat": 4,
 "nbformat_minor": 5
}
