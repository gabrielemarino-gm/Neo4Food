{
 "cells": [
  {
   "cell_type": "code",
   "execution_count": 12,
   "metadata": {},
   "outputs": [],
   "source": [
    "import json\n",
    "import random\n",
    "\n",
    "with open('../data/ItaliansEdited.json', encoding='utf-8') as f:\n",
    "    data = json.load(f)\n",
    "\n"
   ]
  },
  {
   "cell_type": "code",
   "execution_count": null,
   "metadata": {},
   "outputs": [],
   "source": [
    "lista = [\" \", \".\", \"-\", \"&\", \"®\", \"'\"]\n",
    "\n",
    "for d in data:\n",
    "    x = d['name']\n",
    "    for i in lista:\n",
    "        x = x.replace(i, \"\")\n",
    "   \n",
    "    d['password'] = str(random.randint(1000, 9999))\n",
    "    d['email'] = x + \"@ristoranti.it\"\n",
    "\n",
    "    # print(d['email']+ \"    \"+ d['password'])"
   ]
  },
  {
   "cell_type": "code",
   "execution_count": 21,
   "metadata": {},
   "outputs": [],
   "source": [
    "with open('../data/ItaliansEditedEmlPass.json', encoding='utf-8', mode ='w') as f:\n",
    "    json.dump(data, f)"
   ]
  },
  {
   "attachments": {},
   "cell_type": "markdown",
   "metadata": {},
   "source": [
    "<!-- PART 2 -->\n",
    "<!-- Devo assegnare ad ogni piatto italiano un id unico -->"
   ]
  },
  {
   "cell_type": "code",
   "execution_count": 6,
   "metadata": {},
   "outputs": [],
   "source": [
    "import json\n",
    "import pymongo\n",
    "from bson.objectid import ObjectId\n"
   ]
  },
  {
   "cell_type": "code",
   "execution_count": 17,
   "metadata": {},
   "outputs": [],
   "source": [
    "zips = []\n",
    "for d in data:\n",
    "    if d['zip_code'] not in zips:\n",
    "        zips.append(d['zip_code'])\n"
   ]
  },
  {
   "cell_type": "code",
   "execution_count": 60,
   "metadata": {},
   "outputs": [],
   "source": [
    "myclient = pymongo.MongoClient(\"mongodb://10.1.1.9:27017,10.1.1.10:27018,10.1.1.11:27019\")\n",
    "mydb = myclient[\"Neo4Food\"]\n",
    "mycol = mydb[\"Restaurants\"]\n",
    "\n",
    "res = {}\n",
    "\n",
    "for zip in zips:\n",
    "    res[zip] = mycol.find({\"zip_code\": zip})"
   ]
  },
  {
   "cell_type": "code",
   "execution_count": null,
   "metadata": {},
   "outputs": [],
   "source": [
    "# Per ogni zipcode\n",
    "for x in res:\n",
    "    # Per ogni ristorante con quel\n",
    "    for i in res[x]:\n",
    "        rid = i['_id']\n",
    "        print(rid)\n",
    "        # Per ogni piato di quel ristorante\n",
    "        dishes = i['dishes']\n",
    "        for d in dishes:\n",
    "            d['_id'] = ObjectId()\n",
    "\n",
    "        mycol.update_one({\"_id\": rid}, {\"$set\": {\"dishes\": dishes}})"
   ]
  }
 ],
 "metadata": {
  "kernelspec": {
   "display_name": "base",
   "language": "python",
   "name": "python3"
  },
  "language_info": {
   "codemirror_mode": {
    "name": "ipython",
    "version": 3
   },
   "file_extension": ".py",
   "mimetype": "text/x-python",
   "name": "python",
   "nbconvert_exporter": "python",
   "pygments_lexer": "ipython3",
   "version": "3.9.12 (main, Apr  4 2022, 05:22:27) [MSC v.1916 64 bit (AMD64)]"
  },
  "orig_nbformat": 4,
  "vscode": {
   "interpreter": {
    "hash": "f6221e4d2bd166493528d1be569624111fa277062041f177e94d7bcd5da36abc"
   }
  }
 },
 "nbformat": 4,
 "nbformat_minor": 2
}
