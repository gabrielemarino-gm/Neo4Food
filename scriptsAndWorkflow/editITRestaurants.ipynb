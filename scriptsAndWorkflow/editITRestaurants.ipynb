{
 "cells": [
  {
   "cell_type": "code",
   "execution_count": 16,
   "metadata": {},
   "outputs": [
    {
     "name": "stderr",
     "output_type": "stream",
     "text": [
      "C:\\Users\\mpasq\\AppData\\Local\\Temp\\ipykernel_1256\\1024018789.py:4: ResourceWarning: unclosed file <_io.TextIOWrapper name='../data/ItaliansEdited.json' mode='r' encoding='utf-8'>\n",
      "  with open('../data/ItaliansEdited.json', encoding='utf-8') as f:\n",
      "ResourceWarning: Enable tracemalloc to get the object allocation traceback\n"
     ]
    }
   ],
   "source": [
    "import json\n",
    "import random\n",
    "\n",
    "with open('../data/ItaliansEdited.json', encoding='utf-8') as f:\n",
    "    data = json.load(f)\n",
    "\n"
   ]
  },
  {
   "cell_type": "code",
   "execution_count": null,
   "metadata": {},
   "outputs": [],
   "source": [
    "lista = [\" \", \".\", \"-\", \"&\", \"®\", \"'\"]\n",
    "\n",
    "for d in data:\n",
    "    x = d['name']\n",
    "    for i in lista:\n",
    "        x = x.replace(i, \"\")\n",
    "   \n",
    "    d['password'] = str(random.randint(1000, 9999))\n",
    "    d['email'] = x + \"@ristoranti.it\"\n",
    "\n",
    "    # print(d['email']+ \"    \"+ d['password'])"
   ]
  },
  {
   "cell_type": "code",
   "execution_count": 21,
   "metadata": {},
   "outputs": [],
   "source": [
    "with open('../data/ItaliansEditedEmlPass.json', encoding='utf-8', mode ='w') as f:\n",
    "    json.dump(data, f)"
   ]
  }
 ],
 "metadata": {
  "kernelspec": {
   "display_name": "base",
   "language": "python",
   "name": "python3"
  },
  "language_info": {
   "codemirror_mode": {
    "name": "ipython",
    "version": 3
   },
   "file_extension": ".py",
   "mimetype": "text/x-python",
   "name": "python",
   "nbconvert_exporter": "python",
   "pygments_lexer": "ipython3",
   "version": "3.9.12"
  },
  "orig_nbformat": 4,
  "vscode": {
   "interpreter": {
    "hash": "f6221e4d2bd166493528d1be569624111fa277062041f177e94d7bcd5da36abc"
   }
  }
 },
 "nbformat": 4,
 "nbformat_minor": 2
}
